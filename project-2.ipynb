{
 "cells": [
  {
   "cell_type": "markdown",
   "metadata": {},
   "source": [
    "# Project - 2 Bulldozer (Predict Bulldozer prices(Regression))"
   ]
  },
  {
   "cell_type": "code",
   "execution_count": 1,
   "metadata": {},
   "outputs": [],
   "source": [
    "# Import the libraries\n",
    "import pandas as pd\n",
    "from sklearn.metrics import RocCurveDisplay \n",
    "import numpy as np \n",
    "import matplotlib.pyplot as plt\n",
    "import seaborn as sns\n",
    "import time\n",
    "\n",
    "# modelling libraries\n",
    "from sklearn.linear_model import LogisticRegression\n",
    "from sklearn.neighbors import KNeighborsClassifier\n",
    "from sklearn.ensemble import RandomForestClassifier\n",
    "\n",
    "# model selection libraries\n",
    "from sklearn.model_selection import train_test_split, RandomizedSearchCV, GridSearchCV, cross_val_score\n",
    "\n",
    "# model evaluation libraries(metrics)\n",
    "from sklearn.metrics import classification_report, accuracy_score,  f1_score,confusion_matrix,precision_score,recall_score,f1_score, roc_auc_score\n",
    "\n",
    "\n",
    "from scipy.stats import randint\n",
    "\n",
    "\n",
    "%matplotlib inline"
   ]
  },
  {
   "cell_type": "markdown",
   "metadata": {},
   "source": [
    "## Problem Statement\n",
    "1. How well can we predict the future sales price of a buldozer.\n",
    "\n",
    "### Data\n",
    "1. Data is downloaded from bulldozers blue book.\n",
    "\n",
    "### Evaluation\n",
    "1. Root Mean Squared Log Error (RMSLE)"
   ]
  },
  {
   "cell_type": "markdown",
   "metadata": {},
   "source": [
    "Root Mean Squared Logarithmic Error (RMSLE) is a metric commonly used in regression tasks where the target values have a wide range and you want to penalize underestimates more than overestimates. It's particularly useful when predicting values with exponential growth, such as population forecasting, sales, or stock prices.\n",
    "\n",
    "The formula for RMSLE is:\n",
    "\n",
    "\\(\\sqrt{\\frac{1}{n} \\sum_{i=1}^{n} (\\log(y_i + 1) - \\log(\\hat{y}_i + 1))^2}\\)\n",
    "\n",
    "Here's how you can implement RMSLE calculation in Python using scikit-learn:\n",
    "\n",
    "```python\n",
    "import numpy as np\n",
    "from sklearn.metrics import mean_squared_log_error\n",
    "\n",
    "# Assuming y_true and y_pred are your true and predicted values\n",
    "rmsle = np.sqrt(mean_squared_log_error(y_true + 1, y_pred + 1))\n",
    "```\n",
    "\n",
    "Explanation:\n",
    "- `np.sqrt` calculates the square root of the mean squared log error.\n",
    "- `mean_squared_log_error` from scikit-learn computes the mean squared log error between the logarithm of predicted and true values, considering a constant shift of 1 to avoid log(0).\n",
    "\n",
    "RMSLE penalizes underestimates more than overestimates, making it suitable for certain regression problems where predictions need to be accurate across a wide range of values. Adjust the shift value (+1) based on your specific problem domain if necessary."
   ]
  },
  {
   "cell_type": "code",
   "execution_count": 4,
   "metadata": {},
   "outputs": [
    {
     "name": "stderr",
     "output_type": "stream",
     "text": [
      "/tmp/ipykernel_42073/1815082620.py:1: DtypeWarning: Columns (13,39,40,41) have mixed types. Specify dtype option on import or set low_memory=False.\n",
      "  df_tarin = pd.read_csv(\"./bluebook-for-bulldozers/Train.csv\",)\n"
     ]
    }
   ],
   "source": [
    "df_tarin = pd.read_csv(\"./bluebook-for-bulldozers/Train.csv\",dtype=dt)\n",
    "df_valid = pd.read_csv(\"./bluebook-for-bulldozers/Valid.csv\",dtype=dt)"
   ]
  },
  {
   "cell_type": "code",
   "execution_count": null,
   "metadata": {},
   "outputs": [],
   "source": []
  },
  {
   "cell_type": "code",
   "execution_count": null,
   "metadata": {},
   "outputs": [],
   "source": []
  },
  {
   "cell_type": "code",
   "execution_count": null,
   "metadata": {},
   "outputs": [],
   "source": []
  },
  {
   "cell_type": "code",
   "execution_count": null,
   "metadata": {},
   "outputs": [],
   "source": []
  },
  {
   "cell_type": "code",
   "execution_count": null,
   "metadata": {},
   "outputs": [],
   "source": []
  },
  {
   "cell_type": "code",
   "execution_count": null,
   "metadata": {},
   "outputs": [],
   "source": []
  }
 ],
 "metadata": {
  "kernelspec": {
   "display_name": "base",
   "language": "python",
   "name": "python3"
  },
  "language_info": {
   "codemirror_mode": {
    "name": "ipython",
    "version": 3
   },
   "file_extension": ".py",
   "mimetype": "text/x-python",
   "name": "python",
   "nbconvert_exporter": "python",
   "pygments_lexer": "ipython3",
   "version": "3.11.5"
  }
 },
 "nbformat": 4,
 "nbformat_minor": 2
}
