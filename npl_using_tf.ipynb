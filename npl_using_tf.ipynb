{
 "cells": [
  {
   "cell_type": "code",
   "execution_count": 6,
   "metadata": {},
   "outputs": [],
   "source": [
    "import tensorflow as tf\n",
    "import numpy as np\n",
    "import re\n",
    "import pandas as pd\n",
    "import math"
   ]
  },
  {
   "cell_type": "code",
   "execution_count": 10,
   "metadata": {},
   "outputs": [],
   "source": [
    "from bs4 import BeautifulSoup"
   ]
  },
  {
   "cell_type": "code",
   "execution_count": 7,
   "metadata": {},
   "outputs": [],
   "source": [
    "df = pd.read_csv(\"./data/twitter/training.1600000.processed.noemoticon.csv\")"
   ]
  },
  {
   "cell_type": "code",
   "execution_count": 8,
   "metadata": {},
   "outputs": [
    {
     "data": {
      "text/html": [
       "<div>\n",
       "<style scoped>\n",
       "    .dataframe tbody tr th:only-of-type {\n",
       "        vertical-align: middle;\n",
       "    }\n",
       "\n",
       "    .dataframe tbody tr th {\n",
       "        vertical-align: top;\n",
       "    }\n",
       "\n",
       "    .dataframe thead th {\n",
       "        text-align: right;\n",
       "    }\n",
       "</style>\n",
       "<table border=\"1\" class=\"dataframe\">\n",
       "  <thead>\n",
       "    <tr style=\"text-align: right;\">\n",
       "      <th></th>\n",
       "      <th>sentiment</th>\n",
       "      <th>id</th>\n",
       "      <th>date</th>\n",
       "      <th>query</th>\n",
       "      <th>user</th>\n",
       "      <th>text</th>\n",
       "    </tr>\n",
       "  </thead>\n",
       "  <tbody>\n",
       "    <tr>\n",
       "      <th>1581767</th>\n",
       "      <td>4</td>\n",
       "      <td>2190232666</td>\n",
       "      <td>Tue Jun 16 02:08:37 PDT 2009</td>\n",
       "      <td>NO_QUERY</td>\n",
       "      <td>WonderlandDream</td>\n",
       "      <td>@tommcfly is recording going well? Can't wait ...</td>\n",
       "    </tr>\n",
       "    <tr>\n",
       "      <th>301883</th>\n",
       "      <td>0</td>\n",
       "      <td>1998807266</td>\n",
       "      <td>Mon Jun 01 19:09:25 PDT 2009</td>\n",
       "      <td>NO_QUERY</td>\n",
       "      <td>sarryy</td>\n",
       "      <td>@allisonlodato don't do that</td>\n",
       "    </tr>\n",
       "    <tr>\n",
       "      <th>480512</th>\n",
       "      <td>0</td>\n",
       "      <td>2179258883</td>\n",
       "      <td>Mon Jun 15 08:51:42 PDT 2009</td>\n",
       "      <td>NO_QUERY</td>\n",
       "      <td>VionaLam</td>\n",
       "      <td>watching Victube. and thinks the guy is so ann...</td>\n",
       "    </tr>\n",
       "    <tr>\n",
       "      <th>1405222</th>\n",
       "      <td>4</td>\n",
       "      <td>2055153652</td>\n",
       "      <td>Sat Jun 06 08:47:57 PDT 2009</td>\n",
       "      <td>NO_QUERY</td>\n",
       "      <td>Dutchrudder</td>\n",
       "      <td>@shnappy1 lol</td>\n",
       "    </tr>\n",
       "    <tr>\n",
       "      <th>286419</th>\n",
       "      <td>0</td>\n",
       "      <td>1993900574</td>\n",
       "      <td>Mon Jun 01 11:06:14 PDT 2009</td>\n",
       "      <td>NO_QUERY</td>\n",
       "      <td>brenda416</td>\n",
       "      <td>I don't want to say &amp;quot;goodbye&amp;quot;</td>\n",
       "    </tr>\n",
       "    <tr>\n",
       "      <th>635013</th>\n",
       "      <td>0</td>\n",
       "      <td>2233481378</td>\n",
       "      <td>Thu Jun 18 21:25:19 PDT 2009</td>\n",
       "      <td>NO_QUERY</td>\n",
       "      <td>RussellMoyer</td>\n",
       "      <td>@HarmonicLunacy Im nervous for my themeatic es...</td>\n",
       "    </tr>\n",
       "    <tr>\n",
       "      <th>148162</th>\n",
       "      <td>0</td>\n",
       "      <td>1883030956</td>\n",
       "      <td>Fri May 22 07:53:41 PDT 2009</td>\n",
       "      <td>NO_QUERY</td>\n",
       "      <td>jessrose552</td>\n",
       "      <td>Last day for @wanderingmeg at a&amp;amp;g   We wil...</td>\n",
       "    </tr>\n",
       "    <tr>\n",
       "      <th>1415771</th>\n",
       "      <td>4</td>\n",
       "      <td>2057281460</td>\n",
       "      <td>Sat Jun 06 12:42:35 PDT 2009</td>\n",
       "      <td>NO_QUERY</td>\n",
       "      <td>SelanneGirl</td>\n",
       "      <td>@RoyalScorpio Yes, it would. As well as cool f...</td>\n",
       "    </tr>\n",
       "    <tr>\n",
       "      <th>59218</th>\n",
       "      <td>0</td>\n",
       "      <td>1686085894</td>\n",
       "      <td>Sun May 03 03:40:57 PDT 2009</td>\n",
       "      <td>NO_QUERY</td>\n",
       "      <td>sassisam</td>\n",
       "      <td>@mumbrella yes but i'm disappointed with adam ...</td>\n",
       "    </tr>\n",
       "    <tr>\n",
       "      <th>467916</th>\n",
       "      <td>0</td>\n",
       "      <td>2175883027</td>\n",
       "      <td>Mon Jun 15 02:16:23 PDT 2009</td>\n",
       "      <td>NO_QUERY</td>\n",
       "      <td>Wolfgang_</td>\n",
       "      <td>@ebelle it was fun but I'm absolutely miserabl...</td>\n",
       "    </tr>\n",
       "  </tbody>\n",
       "</table>\n",
       "</div>"
      ],
      "text/plain": [
       "         sentiment          id                          date     query  \\\n",
       "1581767          4  2190232666  Tue Jun 16 02:08:37 PDT 2009  NO_QUERY   \n",
       "301883           0  1998807266  Mon Jun 01 19:09:25 PDT 2009  NO_QUERY   \n",
       "480512           0  2179258883  Mon Jun 15 08:51:42 PDT 2009  NO_QUERY   \n",
       "1405222          4  2055153652  Sat Jun 06 08:47:57 PDT 2009  NO_QUERY   \n",
       "286419           0  1993900574  Mon Jun 01 11:06:14 PDT 2009  NO_QUERY   \n",
       "635013           0  2233481378  Thu Jun 18 21:25:19 PDT 2009  NO_QUERY   \n",
       "148162           0  1883030956  Fri May 22 07:53:41 PDT 2009  NO_QUERY   \n",
       "1415771          4  2057281460  Sat Jun 06 12:42:35 PDT 2009  NO_QUERY   \n",
       "59218            0  1686085894  Sun May 03 03:40:57 PDT 2009  NO_QUERY   \n",
       "467916           0  2175883027  Mon Jun 15 02:16:23 PDT 2009  NO_QUERY   \n",
       "\n",
       "                    user                                               text  \n",
       "1581767  WonderlandDream  @tommcfly is recording going well? Can't wait ...  \n",
       "301883            sarryy                      @allisonlodato don't do that   \n",
       "480512          VionaLam  watching Victube. and thinks the guy is so ann...  \n",
       "1405222      Dutchrudder                                     @shnappy1 lol   \n",
       "286419         brenda416           I don't want to say &quot;goodbye&quot;   \n",
       "635013      RussellMoyer  @HarmonicLunacy Im nervous for my themeatic es...  \n",
       "148162       jessrose552  Last day for @wanderingmeg at a&amp;g   We wil...  \n",
       "1415771      SelanneGirl  @RoyalScorpio Yes, it would. As well as cool f...  \n",
       "59218           sassisam  @mumbrella yes but i'm disappointed with adam ...  \n",
       "467916         Wolfgang_  @ebelle it was fun but I'm absolutely miserabl...  "
      ]
     },
     "execution_count": 8,
     "metadata": {},
     "output_type": "execute_result"
    }
   ],
   "source": [
    "df.sample(10)"
   ]
  },
  {
   "cell_type": "code",
   "execution_count": 9,
   "metadata": {},
   "outputs": [
    {
     "data": {
      "text/plain": [
       "(1600000, 6)"
      ]
     },
     "execution_count": 9,
     "metadata": {},
     "output_type": "execute_result"
    }
   ],
   "source": [
    "df.shape"
   ]
  },
  {
   "cell_type": "code",
   "execution_count": 16,
   "metadata": {},
   "outputs": [],
   "source": [
    "from tensorflow.keras import layers\n",
    "import tensorflow_datasets as tfds"
   ]
  },
  {
   "cell_type": "code",
   "execution_count": null,
   "metadata": {},
   "outputs": [],
   "source": []
  },
  {
   "cell_type": "code",
   "execution_count": null,
   "metadata": {},
   "outputs": [],
   "source": []
  },
  {
   "cell_type": "code",
   "execution_count": null,
   "metadata": {},
   "outputs": [],
   "source": []
  },
  {
   "cell_type": "code",
   "execution_count": null,
   "metadata": {},
   "outputs": [],
   "source": []
  },
  {
   "cell_type": "code",
   "execution_count": null,
   "metadata": {},
   "outputs": [],
   "source": []
  },
  {
   "cell_type": "code",
   "execution_count": null,
   "metadata": {},
   "outputs": [],
   "source": []
  },
  {
   "cell_type": "code",
   "execution_count": null,
   "metadata": {},
   "outputs": [],
   "source": []
  },
  {
   "cell_type": "code",
   "execution_count": null,
   "metadata": {},
   "outputs": [],
   "source": []
  },
  {
   "cell_type": "code",
   "execution_count": null,
   "metadata": {},
   "outputs": [],
   "source": []
  },
  {
   "cell_type": "code",
   "execution_count": null,
   "metadata": {},
   "outputs": [],
   "source": []
  },
  {
   "cell_type": "code",
   "execution_count": null,
   "metadata": {},
   "outputs": [],
   "source": []
  },
  {
   "cell_type": "code",
   "execution_count": null,
   "metadata": {},
   "outputs": [],
   "source": []
  },
  {
   "cell_type": "code",
   "execution_count": null,
   "metadata": {},
   "outputs": [],
   "source": []
  },
  {
   "cell_type": "code",
   "execution_count": null,
   "metadata": {},
   "outputs": [],
   "source": []
  },
  {
   "cell_type": "code",
   "execution_count": null,
   "metadata": {},
   "outputs": [],
   "source": []
  },
  {
   "cell_type": "code",
   "execution_count": null,
   "metadata": {},
   "outputs": [],
   "source": []
  },
  {
   "cell_type": "code",
   "execution_count": null,
   "metadata": {},
   "outputs": [],
   "source": []
  },
  {
   "cell_type": "code",
   "execution_count": null,
   "metadata": {},
   "outputs": [],
   "source": []
  },
  {
   "cell_type": "code",
   "execution_count": null,
   "metadata": {},
   "outputs": [],
   "source": []
  }
 ],
 "metadata": {
  "kernelspec": {
   "display_name": "base",
   "language": "python",
   "name": "python3"
  },
  "language_info": {
   "codemirror_mode": {
    "name": "ipython",
    "version": 3
   },
   "file_extension": ".py",
   "mimetype": "text/x-python",
   "name": "python",
   "nbconvert_exporter": "python",
   "pygments_lexer": "ipython3",
   "version": "3.11.5"
  }
 },
 "nbformat": 4,
 "nbformat_minor": 2
}
